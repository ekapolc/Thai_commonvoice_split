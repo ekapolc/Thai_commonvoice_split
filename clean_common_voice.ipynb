{
 "cells": [
  {
   "cell_type": "code",
   "execution_count": 1,
   "id": "66741fec-e478-4945-a7e6-00d2994f03ff",
   "metadata": {},
   "outputs": [],
   "source": [
    "%reload_ext autoreload\n",
    "%autoreload 2"
   ]
  },
  {
   "cell_type": "code",
   "execution_count": 2,
   "id": "5be8d12e-33a6-4955-a23d-47b37b31e751",
   "metadata": {},
   "outputs": [],
   "source": [
    "import os\n",
    "import re\n",
    "from typing import List, Dict, Tuple\n",
    "\n",
    "import pandas as pd\n",
    "from scipy.io import wavfile\n",
    "from pythainlp.tokenize import word_tokenize\n",
    "\n",
    "from spell_correction import correct_sentence\n",
    "\n",
    "# ipython\n",
    "import IPython.display as ipd\n",
    "import ipywidgets as widgets\n",
    "import matplotlib.pyplot as plt\n",
    "import numpy as np\n",
    "from tqdm.auto import tqdm"
   ]
  },
  {
   "cell_type": "code",
   "execution_count": 3,
   "id": "4c641a3e-7bcc-4b39-a021-f640b4955950",
   "metadata": {},
   "outputs": [],
   "source": [
    "cv_root: str = \"../data/cv-corpus-7.0-2021-07-21\"\n",
    "label_root: str = \"labels-aj-ek\""
   ]
  },
  {
   "cell_type": "code",
   "execution_count": 4,
   "id": "8347a33f-84d4-41b9-bb7c-1d219c8f0c25",
   "metadata": {},
   "outputs": [],
   "source": [
    "# clean from raw\n",
    "\n",
    "# train: pd.DataFrame = pd.read_csv(f\"{cv_root}/th/train.tsv\", delimiter=\"\\t\")\n",
    "# train[\"set\"] = \"train\"\n",
    "# dev: pd.DataFrame = pd.read_csv(f\"{cv_root}/th/dev.tsv\", delimiter=\"\\t\")\n",
    "# dev[\"set\"] = \"dev\"\n",
    "# test: pd.DataFrame = pd.read_csv(f\"{cv_root}/th/test.tsv\", delimiter=\"\\t\")\n",
    "# test[\"set\"] = \"test\"\n",
    "# data: pd.DataFrame = pd.read_csv(f\"{cv_root}/th/validated.tsv\", delimiter=\"\\t\")\n",
    "\n",
    "# command: str = \"sox {mp3_path} -t wav -r {sr} -c 1 -b 16 - |\""
   ]
  },
  {
   "cell_type": "code",
   "execution_count": 5,
   "id": "b1d6a7e3-9b75-43ca-9b3c-98248b4d811e",
   "metadata": {},
   "outputs": [],
   "source": [
    "# clean from aj. Ekapol split\n",
    "\n",
    "train: pd.DataFrame = pd.read_csv(f\"{label_root}/train.tsv\", delimiter=\"\\t\")\n",
    "train[\"set\"] = \"train\"\n",
    "dev: pd.DataFrame = pd.read_csv(f\"{label_root}/dev_unique.tsv\", delimiter=\"\\t\")\n",
    "dev[\"set\"] = \"dev\"\n",
    "test: pd.DataFrame = pd.read_csv(f\"{label_root}/test_unique.tsv\", delimiter=\"\\t\")\n",
    "test[\"set\"] = \"test\"\n",
    "data: pd.DataFrame = pd.concat([\n",
    "    train,\n",
    "    dev,\n",
    "    test\n",
    "], axis=0)\n",
    "\n",
    "command: str = \"sox {mp3_path} -t wav -r {sr} -c 1 -b 16 - |\""
   ]
  },
  {
   "cell_type": "code",
   "execution_count": 6,
   "id": "70419ca1-c8e2-4581-b861-9a2ca52c0bf5",
   "metadata": {},
   "outputs": [],
   "source": [
    "def get_full_path(cv_root: str, path: str) -> str:\n",
    "    \"\"\"Get full path from `path` instance in cv data\"\"\"\n",
    "    f_path: str = f\"{cv_root}/th/clips/{path}\"\n",
    "    if not os.path.exists(f_path):\n",
    "        raise FileNotFoundError(f\"File `{f_path}` does not exists\")\n",
    "    return f_path\n",
    "\n",
    "\n",
    "def get_char(texts: List[str]) -> List[str]:\n",
    "    \"\"\"Get unique char from list of documents\"\"\"\n",
    "    return sorted(set([char for sent in texts for char in sent]))\n",
    "\n",
    "\n",
    "def get_audio_len(audio_path: str) -> float:\n",
    "    \"\"\"Get audio duration in second\"\"\"\n",
    "    sr, wav = wavfile.read(audio_path.replace(\"mp3\", \"wav\").replace(\"clips\", \"wav\"))\n",
    "    return len(wav) / sr\n",
    "#     audio: AudioSegment = AudioSegment.from_mp3(audio_path)\n",
    "#     return len(audio) / 1000  # pydub duration works in ms\n",
    "\n",
    "\n",
    "def sec_to_hour(second: int) -> str:\n",
    "    \"\"\"Convert second to XXH:YYm:ZZs format\"\"\"\n",
    "    minute, second = divmod(second, 60)\n",
    "    hour, minute = divmod(minute, 60)\n",
    "    return f\"{int(hour)}H:{int(minute)}m:{second:.2f}s\""
   ]
  },
  {
   "cell_type": "code",
   "execution_count": 7,
   "id": "4c1bdf94-8714-40b2-8065-798bfa9980fa",
   "metadata": {},
   "outputs": [],
   "source": [
    "# Rules mapping obtained from exploring data\n",
    "mapping_char: Dict[str, str] = {\n",
    "    r\"!\": \" \",\n",
    "    r'\"': \" \",\n",
    "    r\"'\": \" \",\n",
    "    r\",\": \" \",\n",
    "    r\"-\": \" \",\n",
    "    r\"\\.{2,}\": \" \",\n",
    "    r\"\\.$\": \"\",  # full stop at end of sentence\n",
    "    r\"([ก-์])\\.([ก-์])\": r\"\\1. \\2\",  # บจก.XXX -> บจก. XXX\n",
    "    r\":\": \" \",\n",
    "    r\";\": \" \",\n",
    "    r\"\\?\": \" \",\n",
    "    r\"‘\": \" \", \n",
    "    r\"’\": \" \",\n",
    "    r\"“\": \" \", \n",
    "    r\"”\": \" \",\n",
    "    r\"~\": \" \",\n",
    "    r\"—\": \" \",\n",
    "    r\"\\.\": \" \",\n",
    "    r\"แล้วววว\": \"แล้ว\",\n",
    "    r\"เส้นยาแเงผ่าแปด\": \"เส้นยาแดงผ่าแปด\",\n",
    "    r\"ปากกกา\": \"ปากกา\",\n",
    "}\n",
    "\n",
    "# text that needs to be fixed\n",
    "change_text: Dict[str, str] = {\n",
    "    \"common_voice_th_26103939.mp3\": \"บริษัทจำกัดดาบเพ็ชร์\",\n",
    "    \"common_voice_th_27269555.mp3\": \"ศุนย์การค้า เจ พี ไรวา\",\n",
    "    \"common_voice_th_26429486.mp3\": \"โศรดาพลัดถิ่น ชอุ่ม ปัญจพรรค์\",\n",
    "    \"common_voice_th_25668677.mp3\": \"มิสเตอร์ ลินคอล์น\",\n",
    "    \"common_voice_th_25677501.mp3\": \"โอ้พระเจ้าพวกเขาฆ่า เคนนี่\",\n",
    "    \"common_voice_th_25696778.mp3\": \"ฉันสงสัยว่า ซี เซคชั่น จะได้รับความนิยมมากกว่าการเกิดตามธรรมชาติในวันหนึ่ง\",\n",
    "    \"common_voice_th_25728649.mp3\": \"เนื่องจากการขาดโปรแกรมความผิดพลาด โจฮันน่า จึงตัดสินใจขายการหาประโยชน์ในตลาดมืด\",\n",
    "    \"common_voice_th_25700969.mp3\": \"บรูค วิจารณ์ตัวเองเพราะรอยยิ้ม\",\n",
    "    \"common_voice_th_23897115.mp3\": \"กลุ่มอาการ แอสเพอร์เจอร์ เป็นรูปแบบของออทิสติก\",\n",
    "    \"common_voice_th_25705973.mp3\": \"การเปิดใช้งาน ซอฟต์แม็ก นั้นมีราคาแพงมากเพื่อใช้ในการคำนวณ\",\n",
    "    \"common_voice_th_24149507.mp3\": \"แอสโทเทริฟ ถูกใช้ปูพื้นในสนามเด็กเล่นกลางแจ้ง\",\n",
    "    \"common_voice_th_25665768.mp3\": \"เฟสบุ๊ก รวบรวมข้อมูลเกี่ยวกับผู้ที่ไม่ได้เป็นสมาชิก\",\n",
    "    \"common_voice_th_25636404.mp3\": \"ใครอยู่ ม โปรดพาอ้อมไปกินข้าวที\",\n",
    "    \"common_voice_th_25903042.mp3\": \"ฉันคิดว่ามันพร้อมแล้ว ฉันกล่าว\",\n",
    "    \"common_voice_th_26701409.mp3\": \"จอมพล ป มีแนวคิดว่าราษฎรจะรักชาติของตนมิได้\",\n",
    "    \"common_voice_th_26147573.mp3\": \"จอมพล ป พิบูลสงคราม\",\n",
    "    \"common_voice_th_25900743.mp3\": \"ไม่ใช่เพื่อคุณ กัซซี่กล่าว\",\n",
    "    \"common_voice_th_25682485.mp3\": \"ขอขอบคุณ จะตรวจสอบอย่างแน่นอน\",\n",
    "    \"common_voice_th_25885519.mp3\": \"ไม่ใช่อะไรสลักสำคัญ ทหารตอบกลับ\",\n",
    "    \"common_voice_th_25899784.mp3\": \"ไม่ใช่อย่างน้อยที่สุด เขากล่าว\",\n",
    "    \"common_voice_th_25704992.mp3\": \"การวินิจฉัยโรคจำเป็นต้องทำอย่างละเอียดและรอบคอบ\", # การวินิจฉัยโรคจําเป็นต้องทําอย่างละเอียดและรอบคอบ\n",
    "    \"common_voice_th_25628971.mp3\": \"เขากำลังทำงานอยู่\",  # \"เขากำลังทํางานอยู่\"\n",
    "}\n",
    "\n",
    "# sentence to skip\n",
    "skip_sentence: Dict[str, str] = {\n",
    "    \"common_voice_th_25683553.mp3\": \"บางครั้งคนอังกฤษก็ใช้คำว่า whilst แม้ว่ามันจะดูเก่าไปแล้วก็ตาม\",\n",
    "    \"common_voice_th_25682645.mp3\": \"ฉันใช้Flickr ในการเก็บภาพถ่ายออนไลน์ที่สำคัญของฉันเป็นส่วนใหญ่\",\n",
    "    \"common_voice_th_25673002.mp3\": \"Fury X เป็นการ์ดกราฟิกที่ทรงพลังมาก\",\n",
    "    \"common_voice_th_25695730.mp3\": \"Brexiteers เป็นชื่อเล่นที่มอบให้กับผู้ที่สนับสนุนการลงประชามติของ Brexit\"\n",
    "}\n",
    "\n",
    "skip_rules: List[str] = [\n",
    "    r\"[a-zA-Z]\",\n",
    "]"
   ]
  },
  {
   "cell_type": "markdown",
   "id": "834f5c63-8778-4ef9-99c5-9516f35580f8",
   "metadata": {
    "jp-MarkdownHeadingCollapsed": true,
    "tags": []
   },
   "source": [
    "## Audio EDA"
   ]
  },
  {
   "cell_type": "code",
   "execution_count": 31,
   "id": "112a3d73-f3e0-422b-92d9-52ce4be38961",
   "metadata": {},
   "outputs": [
    {
     "data": {
      "application/vnd.jupyter.widget-view+json": {
       "model_id": "01eb520b711248258adc4baa1a270381",
       "version_major": 2,
       "version_minor": 0
      },
      "text/plain": [
       "  0%|          | 0/92635 [00:00<?, ?it/s]"
      ]
     },
     "metadata": {},
     "output_type": "display_data"
    }
   ],
   "source": [
    "audios: List[str] = data[\"path\"].map(lambda path: get_full_path(cv_root=cv_root, path=path)).tolist()\n",
    "audios_len: List[float] = [get_audio_len(f) for f in tqdm(audios)]"
   ]
  },
  {
   "cell_type": "code",
   "execution_count": 32,
   "id": "22602e46-27e0-4f94-9e47-a765238f34ad",
   "metadata": {},
   "outputs": [
    {
     "data": {
      "image/png": "[encoded data removed]",
      "text/plain": [
       "<Figure size 432x288 with 1 Axes>"
      ]
     },
     "metadata": {
      "needs_background": "light"
     },
     "output_type": "display_data"
    },
    {
     "name": "stdout",
     "output_type": "stream",
     "text": [
      "Total: 114H:19m:26.84s\n",
      "Mean: 4.44\n",
      "Std.: 1.48\n",
      "Max: 10.69\n",
      "Min: 1.62\n"
     ]
    }
   ],
   "source": [
    "plt.hist(audios_len, bins=50)\n",
    "plt.xlabel(\"Time (sec)\")\n",
    "plt.ylabel(\"Frequency\")\n",
    "plt.title(\"File duration distribution\")\n",
    "plt.show()\n",
    "\n",
    "print(f\"Total: {sec_to_hour(np.sum(audios_len))}\")\n",
    "print(f\"Mean: {np.mean(audios_len):.2f}\")\n",
    "print(f\"Std.: {np.std(audios_len):.2f}\")\n",
    "print(f\"Max: {np.max(audios_len):.2f}\")\n",
    "print(f\"Min: {np.min(audios_len):.2f}\")"
   ]
  },
  {
   "cell_type": "markdown",
   "id": "57b4db8d-a836-4124-be99-ed1573787569",
   "metadata": {
    "jp-MarkdownHeadingCollapsed": true,
    "tags": []
   },
   "source": [
    "## Transcription EDA"
   ]
  },
  {
   "cell_type": "code",
   "execution_count": 30,
   "id": "1261a0a8-0de7-4562-83cf-f42aed8f0024",
   "metadata": {},
   "outputs": [],
   "source": [
    "texts: pd.DataFrame = data[[\"path\", \"sentence\"]]\n",
    "texts[\"path\"] = texts[\"path\"].map(lambda x: get_full_path(cv_root, x))\n",
    "texts: List[Tuple[str, str]] = texts.values.tolist()\n",
    "# texts = [correct_sentence(text) for text in tqdm(texts)]"
   ]
  },
  {
   "cell_type": "code",
   "execution_count": 31,
   "id": "2f22c53a-47a5-4dfb-b8f2-ecce13eb7500",
   "metadata": {
    "tags": []
   },
   "outputs": [
    {
     "name": "stdout",
     "output_type": "stream",
     "text": [
      "` `, `!`, `\"`, `'`, `,`, `-`, `.`, `:`, `;`, `?`, `A`, `B`, `C`, `F`, `J`, `K`, `L`, `M`, `X`, `a`, `b`, `c`, `e`, `f`, `g`, `h`, `i`, `k`, `l`, `m`, `n`, `o`, `p`, `r`, `s`, `t`, `u`, `w`, `x`, `y`, `~`, `ก`, `ข`, `ฃ`, `ค`, `ฆ`, `ง`, `จ`, `ฉ`, `ช`, `ซ`, `ฌ`, `ญ`, `ฎ`, `ฏ`, `ฐ`, `ฑ`, `ฒ`, `ณ`, `ด`, `ต`, `ถ`, `ท`, `ธ`, `น`, `บ`, `ป`, `ผ`, `ฝ`, `พ`, `ฟ`, `ภ`, `ม`, `ย`, `ร`, `ฤ`, `ล`, `ว`, `ศ`, `ษ`, `ส`, `ห`, `ฬ`, `อ`, `ฮ`, `ฯ`, `ะ`, `ั`, `า`, `ำ`, `ิ`, `ี`, `ึ`, `ื`, `ุ`, `ู`, `เ`, `แ`, `โ`, `ใ`, `ไ`, `ๅ`, `ๆ`, `็`, `่`, `้`, `๊`, `๋`, `์`, `ํ`, `—`, `‘`, `’`, `“`, `”`, "
     ]
    }
   ],
   "source": [
    "_ = [print(f\"`{c}`, \", end=\"\") for c in get_char([x[-1] for x in texts])]"
   ]
  },
  {
   "cell_type": "code",
   "execution_count": 38,
   "id": "7a446103-d658-4b36-b208-ac8a2d32aba2",
   "metadata": {
    "tags": []
   },
   "outputs": [
    {
     "data": {
      "application/vnd.jupyter.widget-view+json": {
       "model_id": "778948d0e36d40b48bdd8949f1b5fcf1",
       "version_major": 2,
       "version_minor": 0
      },
      "text/plain": [
       "Button(description='Next', style=ButtonStyle())"
      ]
     },
     "metadata": {},
     "output_type": "display_data"
    },
    {
     "data": {
      "application/vnd.jupyter.widget-view+json": {
       "model_id": "18fd128d11d6498cb8dc03d6ed6119d4",
       "version_major": 2,
       "version_minor": 0
      },
      "text/plain": [
       "Button(description='Back', style=ButtonStyle())"
      ]
     },
     "metadata": {},
     "output_type": "display_data"
    },
    {
     "data": {
      "application/vnd.jupyter.widget-view+json": {
       "model_id": "304f98d422454c5cbaae4af7baa99c5a",
       "version_major": 2,
       "version_minor": 0
      },
      "text/plain": [
       "Output()"
      ]
     },
     "metadata": {},
     "output_type": "display_data"
    }
   ],
   "source": [
    "nxt_btn = widgets.Button(description=\"Next\")\n",
    "back_btn = widgets.Button(description=\"Back\")\n",
    "output = widgets.Output()\n",
    "\n",
    "pattern = r\"ํ\"\n",
    "idx = 0\n",
    "\n",
    "def on_nxt_clicked(b):\n",
    "    global idx\n",
    "    is_match = False\n",
    "    terminate = False\n",
    "    while not is_match:\n",
    "        if idx == len(texts) - 1:\n",
    "            is_match = True\n",
    "            terminate = True\n",
    "        f_path, sent = texts[idx]\n",
    "        matches = re.finditer(pattern, sent)\n",
    "        n_matches: int = sum([1 for _ in matches])\n",
    "        if n_matches > 0:\n",
    "            is_match = True\n",
    "        idx += 1\n",
    "    with output:\n",
    "        if terminate:\n",
    "            ipd.clear_output()\n",
    "            print(\"End of corpus. Resetting...\")\n",
    "            idx = 0\n",
    "        else:\n",
    "            ipd.clear_output()\n",
    "            print(f_path)\n",
    "            print(f\"{sent}\")\n",
    "            !afplay $f_path\n",
    "            ipd.display(ipd.Audio(f_path))\n",
    "\n",
    "def on_back_clicked(b):\n",
    "    global idx\n",
    "    is_match = False\n",
    "    terminate = False\n",
    "    while not is_match:\n",
    "        if idx == 0:\n",
    "            is_match = True\n",
    "            terminate = True\n",
    "        f_path, sent = texts[idx]\n",
    "        matches = re.finditer(pattern, sent)\n",
    "        n_matches: int = sum([1 for _ in matches])\n",
    "        if n_matches > 0:\n",
    "            is_match = True\n",
    "        idx =- 1\n",
    "    with output:\n",
    "        if terminate:\n",
    "            ipd.clear_output()\n",
    "            idx = 0\n",
    "        else:\n",
    "            ipd.clear_output()\n",
    "            print(f_path)\n",
    "            print(f\"{sent}\")\n",
    "            !afplay $f_path\n",
    "            ipd.display(ipd.Audio(f_path))\n",
    "\n",
    "\n",
    "display(nxt_btn, back_btn, output)\n",
    "\n",
    "nxt_btn.on_click(on_nxt_clicked)\n",
    "back_btn.on_click(on_back_clicked)"
   ]
  },
  {
   "cell_type": "code",
   "execution_count": 39,
   "id": "00e4c32b-b520-4b68-9d83-a7c2f53e6809",
   "metadata": {},
   "outputs": [
    {
     "name": "stdout",
     "output_type": "stream",
     "text": [
      "../data/cv-corpus-7.0-2021-07-21/th/clips/common_voice_th_25704992.mp3\tการวินิจฉัยโรคจําเป็นต้องทําอย่างละเอียดและรอบคอบ\n",
      "../data/cv-corpus-7.0-2021-07-21/th/clips/common_voice_th_25628971.mp3\tเขากำลังทํางานอยู่\n",
      "../data/cv-corpus-7.0-2021-07-21/th/clips/common_voice_th_25664993.mp3\tเขากำลังทํางานอยู่\n",
      "../data/cv-corpus-7.0-2021-07-21/th/clips/common_voice_th_25689572.mp3\tเขากำลังทํางานอยู่\n",
      "../data/cv-corpus-7.0-2021-07-21/th/clips/common_voice_th_25733924.mp3\tเขากำลังทํางานอยู่\n",
      "../data/cv-corpus-7.0-2021-07-21/th/clips/common_voice_th_25689838.mp3\tเขากำลังทํางานอยู่\n",
      "../data/cv-corpus-7.0-2021-07-21/th/clips/common_voice_th_25704096.mp3\tการวินิจฉัยโรคจําเป็นต้องทําอย่างละเอียดและรอบคอบ\n",
      "../data/cv-corpus-7.0-2021-07-21/th/clips/common_voice_th_23670291.mp3\tการวินิจฉัยโรคจําเป็นต้องทําอย่างละเอียดและรอบคอบ\n",
      "../data/cv-corpus-7.0-2021-07-21/th/clips/common_voice_th_25733488.mp3\tเขากำลังทํางานอยู่\n",
      "../data/cv-corpus-7.0-2021-07-21/th/clips/common_voice_th_26429486.mp3\tโศรดาพลัดถิ่น - ชอุ่ม ปํญจพรรค์\n"
     ]
    }
   ],
   "source": [
    "_ = [print(\"\\t\".join([x[0], x[-1]])) for x in texts if re.search(r\"ํ\", x[-1])]"
   ]
  },
  {
   "cell_type": "code",
   "execution_count": 83,
   "id": "d9dcac86-77c5-4f3e-a8dd-6b6e3c19a959",
   "metadata": {},
   "outputs": [],
   "source": [
    "!afplay data/cv-corpus-7.0-2021-07-21/th/clips/common_voice_th_25636404.mp3"
   ]
  },
  {
   "cell_type": "markdown",
   "id": "2f140db5-d7fa-4108-a3d4-7445576d6901",
   "metadata": {
    "tags": []
   },
   "source": [
    "## Preprocess Data"
   ]
  },
  {
   "cell_type": "code",
   "execution_count": 8,
   "id": "ca19fa14-0a75-44ec-8b0d-7e8244796bd8",
   "metadata": {},
   "outputs": [],
   "source": [
    "def preprocess_text(text: str) -> str:\n",
    "    \"\"\"Preprocess text according to `mapping_char`\"\"\"\n",
    "    text = correct_sentence(text)\n",
    "    for pattern, sub in mapping_char.items():\n",
    "        text = re.sub(pattern, sub, text)\n",
    "    text = re.sub(r\" +\", \" \", text)  # merge multiple whitespaces to one\n",
    "    text = text[1:] if re.search(r\"^[ๆะำฯัิ-ูๅ-์]\", text) else text\n",
    "    return text\n",
    "\n",
    "def is_valid(text: str) -> bool:\n",
    "    \"\"\"Validate each utterance\"\"\"\n",
    "    for rule in skip_rules:\n",
    "        if re.search(rule, text):\n",
    "            return False\n",
    "        else:\n",
    "            return True"
   ]
  },
  {
   "cell_type": "code",
   "execution_count": 9,
   "id": "9ccafc53-444d-48e6-b87b-c7e9ac999700",
   "metadata": {},
   "outputs": [
    {
     "name": "stderr",
     "output_type": "stream",
     "text": [
      "/Users/chompk/.env/lib/python3.8/site-packages/pandas/core/frame.py:3607: SettingWithCopyWarning: \n",
      "A value is trying to be set on a copy of a slice from a DataFrame.\n",
      "Try using .loc[row_indexer,col_indexer] = value instead\n",
      "\n",
      "See the caveats in the documentation: https://pandas.pydata.org/pandas-docs/stable/user_guide/indexing.html#returning-a-view-versus-a-copy\n",
      "  self._set_item(key, value)\n"
     ]
    },
    {
     "name": "stdout",
     "output_type": "stream",
     "text": [
      "Correct ํ + า => ำ\n",
      "Correct ํ + า => ำ\n",
      "Correct ํ + า => ำ\n",
      "Correct ํ + า => ำ\n",
      "Correct ํ + า => ำ\n",
      "Correct ํ + า => ำ\n",
      "Correct ํ + า => ำ\n",
      "Correct ํ + า => ำ\n",
      "Correct ํ + า => ำ\n",
      "Corrected `่` + `ุ` => `ุ` + `่`\n"
     ]
    },
    {
     "data": {
      "application/vnd.jupyter.widget-view+json": {
       "model_id": "70413c7a3b9c4232bf4b79760adb59cc",
       "version_major": 2,
       "version_minor": 0
      },
      "text/plain": [
       "  0%|          | 0/92586 [00:00<?, ?it/s]"
      ]
     },
     "metadata": {},
     "output_type": "display_data"
    },
    {
     "name": "stdout",
     "output_type": "stream",
     "text": [
      "../data/cv-corpus-7.0-2021-07-21/th/clips/common_voice_th_25704992.mp3\n",
      "\tReplacing `การวินิจฉัยโรคจำเป็นต้องทำอย่างละเอียดและรอบคอบ`... with `การวินิจฉัยโรคจำเป็นต้องทำอย่างละเอียดและรอบคอบ`...\n",
      "../data/cv-corpus-7.0-2021-07-21/th/clips/common_voice_th_25628971.mp3\n",
      "\tReplacing `เขากำลังทำงานอยู่`... with `เขากำลังทำงานอยู่`...\n",
      "../data/cv-corpus-7.0-2021-07-21/th/clips/common_voice_th_25636404.mp3\n",
      "\tReplacing `ใครอยู่ม โปรดพาอ้อมไปกินข้าวที`... with `ใครอยู่ ม โปรดพาอ้อมไปกินข้าวที`...\n",
      "../data/cv-corpus-7.0-2021-07-21/th/clips/common_voice_th_26147573.mp3\n",
      "\tReplacing `จอมพล ป พิบูลสงคราม`... with `จอมพล ป พิบูลสงคราม`...\n",
      "../data/cv-corpus-7.0-2021-07-21/th/clips/common_voice_th_25682485.mp3\n",
      "\tReplacing `ขอขอบคุณ จะตรวจสอบอย่างแน่นอน`... with `ขอขอบคุณ จะตรวจสอบอย่างแน่นอน`...\n",
      "../data/cv-corpus-7.0-2021-07-21/th/clips/common_voice_th_25885519.mp3\n",
      "\tReplacing `ไม่ใช่อะไรสลักสำคัญ ทหารตอบกลับ`... with `ไม่ใช่อะไรสลักสำคัญ ทหารตอบกลับ`...\n",
      "../data/cv-corpus-7.0-2021-07-21/th/clips/common_voice_th_25899784.mp3\n",
      "\tReplacing `ไม่ใช่อย่างน้อยที่สุด เขากล่าว`... with `ไม่ใช่อย่างน้อยที่สุด เขากล่าว`...\n",
      "../data/cv-corpus-7.0-2021-07-21/th/clips/common_voice_th_25900743.mp3\n",
      "\tReplacing `ไม่ใช่เพื่อคุณ กัซซี่กล่าว`... with `ไม่ใช่เพื่อคุณ กัซซี่กล่าว`...\n",
      "../data/cv-corpus-7.0-2021-07-21/th/clips/common_voice_th_25903042.mp3\n",
      "\tReplacing `ฉันคิดว่ามันพร้อมแล้ว ฉันกล่าว`... with `ฉันคิดว่ามันพร้อมแล้ว ฉันกล่าว`...\n",
      "../data/cv-corpus-7.0-2021-07-21/th/clips/common_voice_th_26103939.mp3\n",
      "\tReplacing `บจก ดาบเพ็ชร์`... with `บริษัทจำกัดดาบเพ็ชร์`...\n",
      "../data/cv-corpus-7.0-2021-07-21/th/clips/common_voice_th_26429486.mp3\n",
      "\tReplacing `โศรดาพลัดถิ่น ชอุ่ม ปํญจพรรค์`... with `โศรดาพลัดถิ่น ชอุ่ม ปัญจพรรค์`...\n",
      "../data/cv-corpus-7.0-2021-07-21/th/clips/common_voice_th_27269555.mp3\n",
      "\tReplacing `ศูนย์การค้าเจ พี ไรวา`... with `ศุนย์การค้า เจ พี ไรวา`...\n",
      "../data/cv-corpus-7.0-2021-07-21/th/clips/common_voice_th_26701409.mp3\n",
      "\tReplacing `จอมพล ป มีแนวคิดว่า ราษฎรจะรักชาติของตนมิได้`... with `จอมพล ป มีแนวคิดว่าราษฎรจะรักชาติของตนมิได้`...\n"
     ]
    }
   ],
   "source": [
    "texts: pd.DataFrame = data[[\"path\", \"sentence\", \"set\"]]\n",
    "texts[\"path\"] = texts[\"path\"].map(lambda x: get_full_path(cv_root, x))\n",
    "texts = texts[texts[\"sentence\"].apply(lambda x: is_valid(x))].reset_index(drop=True)\n",
    "texts[\"sentence\"] = texts[\"sentence\"].map(lambda x: preprocess_text(x))\n",
    "\n",
    "remove_idx: List[int] = []\n",
    "for i in tqdm(range(len(texts)), total=len(texts)):\n",
    "    f_path: str = os.path.basename(texts.loc[i, \"path\"])\n",
    "    for name, change in change_text.items():\n",
    "        if f_path in name:\n",
    "            print(texts.loc[i, \"path\"])\n",
    "            print(\"\\tReplacing\", f\"`{texts.loc[i, 'sentence']}`...\", \"with\", f\"`{change}`...\")\n",
    "            texts.loc[i, \"sentence\"] = change\n",
    "            break\n",
    "    for name in skip_sentence.keys():\n",
    "        if f_path in name:\n",
    "            print(texts.loc[i, \"path\"])\n",
    "            print(f\"\\tRemoving `{texts.loc[i, 'sentence']}`...\")\n",
    "            remove_idx.append(i)\n",
    "            \n",
    "texts = texts.drop(texts.index[remove_idx])\n",
    "            \n",
    "texts[\"path\"] = texts[\"path\"].map(lambda x: x.replace(f\"{cv_root}/th/clips/\", \"\"))\n",
    "texts = texts.reset_index(drop=True)\n",
    "texts[\"sentence\"] = texts[\"sentence\"].map(lambda x: re.sub(r\" +\", \" \", x).strip())"
   ]
  },
  {
   "cell_type": "code",
   "execution_count": 10,
   "id": "cea5a949-e06a-48f0-9f47-a9686f001d66",
   "metadata": {},
   "outputs": [
    {
     "name": "stdout",
     "output_type": "stream",
     "text": [
      "\" \", \"ก\", \"ข\", \"ฃ\", \"ค\", \"ฆ\", \"ง\", \"จ\", \"ฉ\", \"ช\", \"ซ\", \"ฌ\", \"ญ\", \"ฎ\", \"ฏ\", \"ฐ\", \"ฑ\", \"ฒ\", \"ณ\", \"ด\", \"ต\", \"ถ\", \"ท\", \"ธ\", \"น\", \"บ\", \"ป\", \"ผ\", \"ฝ\", \"พ\", \"ฟ\", \"ภ\", \"ม\", \"ย\", \"ร\", \"ฤ\", \"ล\", \"ว\", \"ศ\", \"ษ\", \"ส\", \"ห\", \"ฬ\", \"อ\", \"ฮ\", \"ฯ\", \"ะ\", \"ั\", \"า\", \"ำ\", \"ิ\", \"ี\", \"ึ\", \"ื\", \"ุ\", \"ู\", \"เ\", \"แ\", \"โ\", \"ใ\", \"ไ\", \"ๅ\", \"็\", \"่\", \"้\", \"๊\", \"๋\", \"์\", "
     ]
    }
   ],
   "source": [
    "_ = [print(f\"\\\"{c}\\\", \", end=\"\") for c in get_char([x[1] for x in texts.values.tolist()])]"
   ]
  },
  {
   "cell_type": "code",
   "execution_count": 11,
   "id": "54757f8b-e689-4160-9e21-e20452f6ff78",
   "metadata": {},
   "outputs": [
    {
     "data": {
      "text/html": [
       "<div>\n",
       "<style scoped>\n",
       "    .dataframe tbody tr th:only-of-type {\n",
       "        vertical-align: middle;\n",
       "    }\n",
       "\n",
       "    .dataframe tbody tr th {\n",
       "        vertical-align: top;\n",
       "    }\n",
       "\n",
       "    .dataframe thead th {\n",
       "        text-align: right;\n",
       "    }\n",
       "</style>\n",
       "<table border=\"1\" class=\"dataframe\">\n",
       "  <thead>\n",
       "    <tr style=\"text-align: right;\">\n",
       "      <th></th>\n",
       "      <th>path</th>\n",
       "      <th>sentence</th>\n",
       "      <th>set</th>\n",
       "    </tr>\n",
       "  </thead>\n",
       "  <tbody>\n",
       "  </tbody>\n",
       "</table>\n",
       "</div>"
      ],
      "text/plain": [
       "Empty DataFrame\n",
       "Columns: [path, sentence, set]\n",
       "Index: []"
      ]
     },
     "execution_count": 11,
     "metadata": {},
     "output_type": "execute_result"
    }
   ],
   "source": [
    "texts[texts[\"sentence\"] == \"\"]  # no blank sentence"
   ]
  },
  {
   "cell_type": "code",
   "execution_count": 53,
   "id": "e549443f-ab1c-4541-94b1-dd16fdc643fb",
   "metadata": {
    "collapsed": true,
    "jupyter": {
     "outputs_hidden": true
    },
    "tags": []
   },
   "outputs": [
    {
     "data": {
      "text/plain": [
       "[('แม่ต้องมีความพร้อมเมื่อออกไปดูแลลูกด้วยตนเองที่บ้าน', ['อ']),\n",
       " ('เขาดึงมือออกมาอีกครั้ง', ['อ']),\n",
       " ('ระบบบริหารจัดการข้อมูลภาพถ่ายจากโดรน', ['บ']),\n",
       " ('ชาส์ล แบบบาร์จ และ อะดา เลิฟเลส ประดิษฐ์เครื่องจักรกลที่ใช้ในการวิเคราะห์',\n",
       "  ['บ']),\n",
       " ('ฉันงงงวย', ['ง']),\n",
       " ('เขาหยุด แล้วคว้ามือออกมา เฉียดตัวฉันไปเส้นยาแเงผ่าแปด', ['อ']),\n",
       " ('ฉันถามเธอว่าเขาพาพ่อออกมามั้ย', ['อ']),\n",
       " ('สิ่งเหล่านี้เป็นเรื่องน่างงงวยและความขัดแย้งที่ฉันไม่สามารถอธิบายได้',\n",
       "  ['ง']),\n",
       " ('แม่ต้องมีความพร้อมเมื่อออกไปดูแลลูกด้วยตนเองที่บ้าน', ['อ']),\n",
       " ('ชาส์ล แบบบาร์จ และ อะดา เลิฟเลส ประดิษฐ์เครื่องจักรกลที่ใช้ในการวิเคราะห์',\n",
       "  ['บ']),\n",
       " ('หากคุณถอดเบรกมือออกรถก็มีแนวโน้มที่จะหมุนออกไป', ['อ']),\n",
       " ('ฉันอาบน้ำอย่างงง งง', ['ง']),\n",
       " ('แบตเตอรี่รถยนต์บางรุ่นต้องการน้ำกลั่นปราศจากไอออน', ['อ']),\n",
       " ('แคทลีนหยิบโทรศัพท์มือถือของเธอออกมากจากกระเป๋าเสื้อ', ['อ']),\n",
       " ('การเสพข่าวจากสื่อออนไลน์ต้องคิดให้รอบด้าน', ['อ']),\n",
       " ('เขาหยุด แล้วคว้ามือออกมา เฉียดตัวฉันไปเส้นยาแเงผ่าแปด', ['อ']),\n",
       " ('เขาหยิบดินสอออกมาจากกระเป๋าเสื้อของเขา', ['อ']),\n",
       " ('พวกเขากำลังเอาเธอออก', ['อ']),\n",
       " ('แม่ต้องมีความพร้อมเมื่อออกไปดูแลลูกด้วยตนเองที่บ้าน', ['อ']),\n",
       " ('หากคุณถอดเบรกมือออกรถก็มีแนวโน้มที่จะหมุนออกไป', ['อ']),\n",
       " ('สิ่งเหล่านี้เป็นเรื่องน่างงงวยและความขัดแย้งที่ฉันไม่สามารถอธิบายได้',\n",
       "  ['ง']),\n",
       " ('หนูสงสัยว่าทุกสิ่งอย่างนี่จะเคลื่อนไปพร้อม พร้อมกับเราหรือไม่คะ อลิซที่น่าสงสารครุ่นคิดอย่างงงงวย',\n",
       "  ['ง']),\n",
       " ('ชาส์ล แบบบาร์จ และ อะดา เลิฟเลส ประดิษฐ์เครื่องจักรกลที่ใช้ในการวิเคราะห์',\n",
       "  ['บ']),\n",
       " ('ดังนั้นเธอจึงลุกขึ้นและยื่นมือออกมา', ['อ']),\n",
       " ('การตลาดแบบบอกต่อกันเป็นคำที่ใช้บ่อยโดยนักเศรษฐศาสตร์', ['บ']),\n",
       " ('แอปพลิเคชันของเราเป็นระบบแบบบูรณาการในแนวตั้ง', ['บ']),\n",
       " ('ถ้าเธอปฏิเสธสิ่งที่เป็นอยู่ในตอนนนี้เธอจะรู้สึกตื่นเต้นกับความน่าสงสัย',\n",
       "  ['น']),\n",
       " ('แบตเตอรี่รถยนต์บางรุ่นต้องการน้ำกลั่นปราศจากไอออน', ['อ']),\n",
       " ('อัญมณีที่แพรวพราวนั้นช่างน่าอภิรมย์อย่างยิ่งที่จะเชยชมในขณะที่มันส่งประกายแวววาว',\n",
       "  ['ว']),\n",
       " ('เขาหยิบดินสอออกมาจากกระเป๋าเสื้อของเขา', ['อ']),\n",
       " ('เขาโบกมือออกมาอีกแล้ว', ['อ']),\n",
       " ('โดยปรับปรุงระบบบัตรสวัสดิการแห่งรัฐ', ['บ']),\n",
       " ('การจัดการข้อมูลที่เป็นเท็จทางสื่อออนไลน์', ['อ']),\n",
       " ('เขาเริ่มทำมันใหม่หลังจากที่คุณอออกเดินทางไป', ['อ']),\n",
       " ('พวกเขากำลังเอาเธอออก', ['อ']),\n",
       " ('ฉันงงงวย', ['ง']),\n",
       " ('ฉันอาบน้ำอย่างงง งง', ['ง']),\n",
       " ('หากคุณถอดเบรกมือออกรถก็มีแนวโน้มที่จะหมุนออกไป', ['อ']),\n",
       " ('เขาหยิบดินสอออกมาจากกระเป๋าเสื้อของเขา', ['อ']),\n",
       " ('เขาหยุด แล้วคว้ามือออกมา เฉียดตัวฉันไปเส้นยาแเงผ่าแปด', ['อ']),\n",
       " ('ความฉงนงงงวยกลับมาที่มัน', ['ง']),\n",
       " ('เธอออกไปอาบน้ำ', ['อ']),\n",
       " ('เขาหยิบดินสอออกมาจากกระเป๋าเสื้อของเขา', ['อ']),\n",
       " ('ชาส์ล แบบบาร์จ และ อะดา เลิฟเลส ประดิษฐ์เครื่องจักรกลที่ใช้ในการวิเคราะห์',\n",
       "  ['บ']),\n",
       " ('เขาโบกมือออกมาอีกแล้ว', ['อ']),\n",
       " ('แคทลีนหยิบโทรศัพท์มือถือของเธอออกมากจากกระเป๋าเสื้อ', ['อ']),\n",
       " ('ลิงว่าผลลูกหว้า โดดดิ้นโดยตาม', ['ด']),\n",
       " ('มันเป็นไม่ได้เลยที่จะแล่นเรือและถอนสมอออกจากฝั่ง', ['อ']),\n",
       " ('แบตเตอรี่รถยนต์บางรุ่นต้องการน้ำกลั่นปราศจากไอออน', ['อ']),\n",
       " ('แอปพลิเคชันของเราเป็นระบบแบบบูรณาการในแนวตั้ง', ['บ']),\n",
       " ('พวกเขากำลังเอาเธอออก', ['อ']),\n",
       " ('ระบบบนชิปสถาปัตยกรรมได้รับการปรับปรุง', ['บ']),\n",
       " ('แคทลีนหยิบโทรศัพท์มือถือของเธอออกมากจากกระเป๋าเสื้อ', ['อ']),\n",
       " ('เขาโบกมือออกมาอีกแล้ว', ['อ']),\n",
       " ('หากคุณถอดเบรกมือออกรถก็มีแนวโน้มที่จะหมุนออกไป', ['อ']),\n",
       " ('เขาหยิบดินสอออกมาจากกระเป๋าเสื้อของเขา', ['อ']),\n",
       " ('ทั้งหมดไม่ใช่ทองที่แวววาว', ['ว']),\n",
       " ('ตอนแรกเขางงงวยกับเรื่องโชคร้าย ที่เขาไม่แน่ใจว่าเกิดขึ้นจริงรึเปล่า',\n",
       "  ['ง']),\n",
       " ('เธอออกไปอาบน้ำ', ['อ']),\n",
       " ('เธอออกไปอาบน้ำ', ['อ']),\n",
       " ('คุณคาดหวังอะไรในเมื่อพวกเขาหล่อออกปานนั้น', ['อ']),\n",
       " ('ระบบบริหารจัดการข้อมูลภาพถ่ายจากโดรน', ['บ']),\n",
       " ('ความถี่นี้จะต้องปรากฏในสเปกตรัมการดูดซับและการปล่อยของโมเลกุลไฮโดรเจนไอออนไนซ์',\n",
       "  ['อ']),\n",
       " ('ระบบบริหารจัดการข้อมูลภาพถ่ายจากโดรน', ['บ']),\n",
       " ('ฉันงงงวย', ['ง']),\n",
       " ('และเขาเอามือออกมา', ['อ']),\n",
       " ('พัฒนาระบบบริการสาธารณสุข', ['บ']),\n",
       " ('พวกเขากำลังเอาเธอออก', ['อ']),\n",
       " ('แอปพลิเคชันของเราเป็นระบบแบบบูรณาการในแนวตั้ง', ['บ']),\n",
       " ('ทั้งหมดไม่ใช่ทองที่แวววาว', ['ว']),\n",
       " ('แนะนำให้ทาโลชั่นบำรุงผิวหรือออยล์เพื่อลดการระคายเคือง', ['อ']),\n",
       " ('นายต้องงงครั้งใหญ่แน่ถ้านายหลับตา', ['ง']),\n",
       " ('ความฉงนงงงวยกลับมาที่มัน', ['ง']),\n",
       " ('คุณคาดหวังอะไรในเมื่อพวกเขาหล่อออกปานนั้น', ['อ']),\n",
       " ('ฉันอาบน้ำอย่างงง งง', ['ง']),\n",
       " ('ฉันงงงวย', ['ง']),\n",
       " ('คุณคาดหวังอะไรในเมื่อพวกเขาหล่อออกปานนั้น', ['อ']),\n",
       " ('เธอออกไปอาบน้ำ', ['อ']),\n",
       " ('แม่ต้องมีความพร้อมเมื่อออกไปดูแลลูกด้วยตนเองที่บ้าน', ['อ']),\n",
       " ('ถ้าเธอปฏิเสธสิ่งที่เป็นอยู่ในตอนนนี้เธอจะรู้สึกตื่นเต้นกับความน่าสงสัย',\n",
       "  ['น']),\n",
       " ('ความถี่นี้จะต้องปรากฏในสเปกตรัมการดูดซับและการปล่อยของโมเลกุลไฮโดรเจนไอออนไนซ์',\n",
       "  ['อ']),\n",
       " ('แอปพลิเคชันของเราเป็นระบบแบบบูรณาการในแนวตั้ง', ['บ']),\n",
       " ('ความถี่นี้จะต้องปรากฏในสเปกตรัมการดูดซับและการปล่อยของโมเลกุลไฮโดรเจนไอออนไนซ์',\n",
       "  ['อ']),\n",
       " ('ระบบบริหารจัดการข้อมูลภาพถ่ายจากโดรน', ['บ']),\n",
       " ('หนังสือออกใหม่น่าสนใจหลายเล่มแฮะ', ['อ']),\n",
       " ('เขาหยุด แล้วคว้ามือออกมา เฉียดตัวฉันไปเส้นยาแเงผ่าแปด', ['อ']),\n",
       " ('เขาหยุด แล้วคว้ามือออกมา เฉียดตัวฉันไปเส้นยาแเงผ่าแปด', ['อ']),\n",
       " ('ระบบบนชิปสถาปัตยกรรมได้รับการปรับปรุง', ['บ']),\n",
       " ('คุณคาดหวังอะไรในเมื่อพวกเขาหล่อออกปานนั้น', ['อ']),\n",
       " ('แบตเตอรี่รถยนต์บางรุ่นต้องการน้ำกลั่นปราศจากไอออน', ['อ']),\n",
       " ('คุณคาดหวังอะไรในเมื่อพวกเขาหล่อออกปานนั้น', ['อ']),\n",
       " ('ทั้งหมดไม่ใช่ทองที่แวววาว', ['ว']),\n",
       " ('แล้วฉันก็เห็นชายคนหนึ่งกำลังยืนอยู่บนถนนนอกตึกนี้', ['น']),\n",
       " ('ระบบบริหารจัดการข้อมูลภาพถ่ายจากโดรน', ['บ']),\n",
       " ('นี่โดนเจ้าของลิขสิทธิ์ทำนองเพลงบล็อคไปแล้วแฮะ อืมมม แต่อันนี้มันถือเป็นการแสดงออกทางการเมืองไหมนะ',\n",
       "  ['ม']),\n",
       " ('ฉันปล่อยเธอออกจากบ้าน', ['อ']),\n",
       " ('สิ่งเหล่านี้เป็นเรื่องน่างงงวยและความขัดแย้งที่ฉันไม่สามารถอธิบายได้',\n",
       "  ['ง']),\n",
       " ('พวกเขากำลังเอาเธอออก', ['อ']),\n",
       " ('มันเป็นไม่ได้เลยที่จะแล่นเรือและถอนสมอออกจากฝั่ง', ['อ']),\n",
       " ('เธอออกไปพักที่โซฟาแสนสบายขนาดใหญ่ที่มุมห้องโถง', ['อ']),\n",
       " ('หนึ่งพันเก้าร้อยเก้าสิบเก้า บาท สามารถซื้อออนไลน์ได้ที่ และ ครีมหน้าขาวเนื้อวิป',\n",
       "  ['อ']),\n",
       " ('ระบบบนชิปสถาปัตยกรรมได้รับการปรับปรุง', ['บ']),\n",
       " ('เคทลีนหยิบมือถือออกมาจากกระเป๋า', ['อ']),\n",
       " ('ทั้งหมดไม่ใช่ทองที่แวววาว', ['ว']),\n",
       " ('แล้วฉันก็เห็นชายคนหนึ่งกำลังยืนอยู่บนถนนนอกตึกนี้', ['น']),\n",
       " ('และเขาเอามือออกมา', ['อ']),\n",
       " ('ถ้าเธอปฏิเสธสิ่งที่เป็นอยู่ในตอนนนี้เธอจะรู้สึกตื่นเต้นกับความน่าสงสัย',\n",
       "  ['น']),\n",
       " ('เขาโบกมือออกมาอีกแล้ว', ['อ']),\n",
       " ('เรามักจะเหงื่อออกเวลารู้สึกร้อนจนทนไม่ไหว', ['อ']),\n",
       " ('การเสพข่าวจากสื่อออนไลน์ต้องคิดให้รอบด้าน', ['อ']),\n",
       " ('นายต้องงงครั้งใหญ่แน่ถ้านายหลับตา', ['ง']),\n",
       " ('ในทุกระดับ โดยเฉพาะด้านการตลาด การค้าออนไลน์ ระบบบัญชี เพื่อขยายฐานการผลิต',\n",
       "  ['บ']),\n",
       " ('แล้วฉันก็เห็นชายคนหนึ่งกำลังยืนอยู่บนถนนนอกตึกนี้', ['น']),\n",
       " ('พวกเขากำลังเอาเธอออก', ['อ']),\n",
       " ('คนที่คล่องแคล่วว่องไวสามารถ ชนะคะแนนนี้', ['น']),\n",
       " ('อัญมณีที่แพรวพราวนั้นช่างน่าอภิรมย์อย่างยิ่งที่จะเชยชมในขณะที่มันส่งประกายแวววาว',\n",
       "  ['ว']),\n",
       " ('และเขาเอามือออกมา', ['อ']),\n",
       " ('ฉันงงงวย', ['ง']),\n",
       " ('เขาโบกมือออกมาอีกแล้ว', ['อ']),\n",
       " ('หนูสงสัยว่าทุกสิ่งอย่างนี่จะเคลื่อนไปพร้อม พร้อมกับเราหรือไม่คะ อลิซที่น่าสงสารครุ่นคิดอย่างงงงวย',\n",
       "  ['ง']),\n",
       " ('ในภาษาอังกฤษแบบบริติช วงเล็บเหลี่ยมเป็นสิ่งเดียวกับวงเล็บ', ['บ']),\n",
       " ('ให้สอดคล้องกับระบบบริหารจัดการน้ำคุณภาพของดินตามกำหนด', ['บ']),\n",
       " ('ภาพของเธอเริ่มสื่อออกมาถึงความสนใจ', ['อ']),\n",
       " ('ระบบบนชิปสถาปัตยกรรมได้รับการปรับปรุง', ['บ']),\n",
       " ('ความฉงนงงงวยกลับมาที่มัน', ['ง']),\n",
       " ('พวกเขากำลังเอาเธอออก', ['อ']),\n",
       " ('ทันใดนั้นแสงแวววาวอะไรทำนองนั้นเข้าปะทะกับใบหน้าของเขา', ['ว']),\n",
       " ('คนที่คล่องแคล่วว่องไวสามารถ ชนะคะแนนนี้', ['น']),\n",
       " ('เธอออกไปพ้กผ่อนที่โซฟาแสนสบายขนาดใหญ่ที่มุมห้องโถง', ['อ']),\n",
       " ('มันเป็นไม่ได้เลยที่จะแล่นเรือและถอนสมอออกจากฝั่ง', ['อ']),\n",
       " ('แอปพลิเคชันของเราเป็นระบบแบบบูรณาการในแนวตั้ง', ['บ']),\n",
       " ('ฉันปล่อยเธอออกจากบ้าน', ['อ']),\n",
       " ('ความถี่นี้จะต้องปรากฏในสเปกตรัมการดูดซับและการปล่อยของโมเลกุลไฮโดรเจนไอออนไนซ์',\n",
       "  ['อ']),\n",
       " ('ฉันอาบน้ำอย่างงง งง', ['ง']),\n",
       " ('ตอนแรกเขางงงวยกับเรื่องโชคร้าย ที่เขาไม่แน่ใจว่าเกิดขึ้นจริงรึเปล่า',\n",
       "  ['ง']),\n",
       " ('ในภาษาอังกฤษแบบบริติช วงเล็บเหลี่ยมเป็นสิ่งเดียวกับวงเล็บ', ['บ']),\n",
       " ('เรามักจะเหงื่อออกเวลารู้สึกร้อนจนทนไม่ไหว', ['อ']),\n",
       " ('ไอออนโลหะจะต้องได้รับความร้อนจากเปลวไฟก่อน', ['อ']),\n",
       " ('ห้องนอนมีตู้เสื้อผ้าหรือตู้แบบบิลท์อินไหม', ['บ']),\n",
       " ('เคทลีนหยิบมือถือออกมาจากกระเป๋า', ['อ']),\n",
       " ('ดังนั้นเธอจึงลุกขึ้นและยื่นมือออกมา', ['อ']),\n",
       " ('ไอออนโลหะจะต้องได้รับความร้อนจากเปลวไฟก่อน', ['อ']),\n",
       " ('เขาเริ่มทำมันใหม่หลังจากที่คุณอออกเดินทางไป', ['อ']),\n",
       " ('อัญมณีที่แพรวพราวนั้นช่างน่าอภิรมย์อย่างยิ่งที่จะเชยชมในขณะที่มันส่งประกายแวววาว',\n",
       "  ['ว']),\n",
       " ('เธอออกไปพ้กผ่อนที่โซฟาแสนสบายขนาดใหญ่ที่มุมห้องโถง', ['อ']),\n",
       " ('ใช้มาได้เกือบวันละ มันทั้งงงกับทั้งแบบ เหมือนเดิมก็เยอะดีนะ', ['ง']),\n",
       " ('เออออห่อหมก', ['อ']),\n",
       " ('พวกเขาพบกันผ่านการคุยวีดีโอออนไลน์', ['อ']),\n",
       " ('การจัดการข้อมูลที่เป็นเท็จทางสื่อออนไลน์', ['อ']),\n",
       " ('หลายร้านบนถนนนั้นก็ปิดด้วย', ['น']),\n",
       " ('เธอมองมาที่ฉัน อย่างงงงวย', ['ง']),\n",
       " ('เธอออกไปพักที่โซฟาแสนสบายขนาดใหญ่ที่มุมห้องโถง', ['อ']),\n",
       " ('เกือบปีแล้วที่ฉันไม่เห็นเธอออกมาข้างนอกบ้าน', ['อ']),\n",
       " ('คือรอมาสองขบวนแล้วก็ยังไม่มีวี่แววว่าจะได้ขึ้น คนนัดเวลานี้บ้านอยู่ตรงข้ามออฟฟิศไง',\n",
       "  ['ว']),\n",
       " ('แวววิเชียร มาลิน จินดากุล', ['ว']),\n",
       " ('และระบบบำบัดน้ำเสีย', ['บ']),\n",
       " ('ปรับปรุงระบบบริหารจัดการต่างต่างให้มีประสิทธิภาพ', ['บ']),\n",
       " ('นายต้องงงครั้งใหญ่แน่ถ้านายหลับตา', ['ง']),\n",
       " ('ไอออนโลหะจะต้องได้รับความร้อนจากเปลวไฟก่อน', ['อ']),\n",
       " ('ดังนั้นเธอจึงลุกขึ้นและยื่นมือออกมา', ['อ']),\n",
       " ('ทันใดนั้นแสงแวววาวอะไรทำนองนั้นเข้าปะทะกับใบหน้าของเขา', ['ว']),\n",
       " ('เธอออกไปพ้กผ่อนที่โซฟาแสนสบายขนาดใหญ่ที่มุมห้องโถง', ['อ']),\n",
       " ('คนที่คล่องแคล่วว่องไวสามารถ ชนะคะแนนนี้', ['น']),\n",
       " ('เขาเริ่มทำมันใหม่หลังจากที่คุณอออกเดินทางไป', ['อ']),\n",
       " ('ในภาษาอังกฤษแบบบริติช วงเล็บเหลี่ยมเป็นสิ่งเดียวกับวงเล็บ', ['บ']),\n",
       " ('อัญมณีที่แพรวพราวนั้นช่างน่าอภิรมย์อย่างยิ่งที่จะเชยชมในขณะที่มันส่งประกายแวววาว',\n",
       "  ['ว']),\n",
       " ('หลายร้านบนถนนนั้นก็ปิดด้วย', ['น']),\n",
       " ('ห้องนอนมีตู้เสื้อผ้าหรือตู้แบบบิลท์อินไหม', ['บ']),\n",
       " ('ฉันถามเธอว่าเขาพาพ่อออกมามั้ย', ['อ']),\n",
       " ('เกือบปีแล้วที่ฉันไม่เห็นเธอออกมาข้างนอกบ้าน', ['อ']),\n",
       " ('การตลาดแบบบอกต่อกันเป็นคำที่ใช้บ่อยโดยนักเศรษฐศาสตร์', ['บ']),\n",
       " ('คือรอมาสองขบวนแล้วก็ยังไม่มีวี่แววว่าจะได้ขึ้น คนนัดเวลานี้บ้านอยู่ตรงข้ามออฟฟิศไง',\n",
       "  ['ว']),\n",
       " ('เออออห่อหมก', ['อ']),\n",
       " ('ใช้มาได้เกือบวันละ มันทั้งงงกับทั้งแบบ เหมือนเดิมก็เยอะดีนะ', ['ง']),\n",
       " ('พวกเขาพบกันผ่านการคุยวีดีโอออนไลน์', ['อ']),\n",
       " ('สื่อออนไลน์', ['อ']),\n",
       " ('แต่ละเพนนีแวววาวเหมือนเหรียญใหม่', ['ว']),\n",
       " ('ภาพของเธอเริ่มสื่อออกมาถึงความสนใจ', ['อ']),\n",
       " ('จัดให้มีระบบบำเหน็จบำนาญ', ['บ']),\n",
       " ('โดยปรับปรุงระบบบัตรสวัสดิการแห่งรัฐ', ['บ']),\n",
       " ('ในระบบบริการประชาชน', ['บ']),\n",
       " ('และระบบบำบัดน้ำเสีย', ['บ']),\n",
       " ('พัฒนาระบบบริการสาธารณสุข', ['บ']),\n",
       " ('คุณหมอถอดถุงมือของเธอออก', ['อ']),\n",
       " ('ปรับปรุงระบบบริหารจัดการต่างต่างให้มีประสิทธิภาพ', ['บ']),\n",
       " ('คนขี่รถมอเตอร์ไซค์มีสิทธิ์ใช้ถนน ถ้าถนนนั้นไม่มีทางข้าม', ['น']),\n",
       " ('กกกร อ่านว่า กะกะกอน', ['ก']),\n",
       " ('รรรรร อ่านว่า ระรันรอน', ['ร']),\n",
       " ('พวกเขาพบกันผ่านทางวีดีโอออนไลน์', ['อ']),\n",
       " ('เราต้องเลือกด้วยว่าจะเปิดบัญชีแบบบัญชีเงินสด', ['บ']),\n",
       " ('ซึ่งเมื่อได้มาแล้วก็ให้คลี่และยืดไม้แขวนเสื้อออกเป็นเส้น', ['อ']),\n",
       " ('ไอออกมาแรง', ['อ']),\n",
       " ('วางมือบริเวณชายโครงทั้ง สอง ข้าง หายใจเข้าให้ชายโครงขยายดันมือออกมาด้านข้าง',\n",
       "  ['อ']),\n",
       " ('มีเหงื่อออก', ['อ']),\n",
       " ('การใช้คำว่า สื่อออนไลน์ นี้', ['อ']),\n",
       " ('เด็กหญิงตัวน้อย ถอดหมวกเธอออก', ['อ']),\n",
       " ('เราพบกันเมื่อปีที่แล้ว ฉันลืมคืนปากกกาคุณ', ['ก']),\n",
       " ('เร่งรัดการพัฒนาระบบบริการสุขภาพ', ['บ']),\n",
       " ('วันนี้แดดดีมาก เหมาะไปเดินเล่น', ['ด']),\n",
       " ('เพื่อการใช้สื่อออนไลน์อย่างสร้างสรรค์', ['อ']),\n",
       " ('เร่งพัฒนาระบบบริการสุขภาพที่มีคุณภาพให้ทั่วถึง', ['บ']),\n",
       " ('กลุ่มแรกมันทำธุรกรรมอออไลน์ได้เลย', ['อ']),\n",
       " ('พัฒนาระบบบริหารจัดการน้ำประปา', ['บ']),\n",
       " ('เพิ่มประสิทธิภาพระบบบริหารจัดการศึกษา', ['บ']),\n",
       " ('ในมือของเขาถือขวดอะลูมิเนียมแวววับอันใหญ่', ['ว']),\n",
       " ('แต่มีหลายสถานการณ์ ที่เมื่อออกเสียงตามรูปแล้ว', ['อ']),\n",
       " ('เขาเปิดห่อออกมา และใส่แซนวิชลงไป', ['อ']),\n",
       " ('แตะเพื่อออก', ['อ']),\n",
       " ('ไม่มีแสงแวววาวทุกที่', ['ว']),\n",
       " ('ตอนนี้เขารู้ว่าสิ่งที่ทำให้เขางงงวยในช่วงสองวันที่ผ่านมา', ['ง']),\n",
       " ('ความชื้นสูงทำให้ฉันเหงื่อออก', ['อ']),\n",
       " ('ผมยกเลิกใบประกาศนียบัตรบางส่วนไปแล้วแต่เขายังไม่ได้ตัดชื่อในใบรายชื่อออก',\n",
       "  ['อ']),\n",
       " ('ปรับปรุงระบบบริหารจัดการการนำเข้าส่งออกสินค้า', ['บ'])]"
      ]
     },
     "execution_count": 53,
     "metadata": {},
     "output_type": "execute_result"
    }
   ],
   "source": [
    "# inspect character contains {2 or more} repeated character\n",
    "[(txt, list(re.findall(r\"(.)\\1{2,}\", txt))) for txt in texts[\"sentence\"] if re.search(r\"(.)\\1{2}\", txt)]"
   ]
  },
  {
   "cell_type": "code",
   "execution_count": 10,
   "id": "615cf9b0-ce3a-4018-918a-0b119641cfc3",
   "metadata": {},
   "outputs": [],
   "source": [
    "# def get_set_from_path(path: str) -> str:\n",
    "#     \"\"\"Get whether path belongs to which set\"\"\"\n",
    "#     if  path in dev[\"path\"].values.tolist():\n",
    "#         return \"dev\"\n",
    "#     elif path in test[\"path\"].values.tolist():\n",
    "#         return \"test\"\n",
    "#     else:\n",
    "#         return \"train\"\n",
    "    \n",
    "# texts[\"set\"] = texts[\"path\"].map(lambda x: get_set_from_path(x))"
   ]
  },
  {
   "cell_type": "code",
   "execution_count": 21,
   "id": "4ff47237-3e2c-47d6-b816-8231db3fd7d1",
   "metadata": {},
   "outputs": [],
   "source": [
    "preprocessed_test = texts[texts[\"set\"] == \"test\"]\n",
    "preprocessed_dev = texts[texts[\"set\"] == \"dev\"]\n",
    "preprocessed_train = texts[texts[\"set\"] == \"train\"]"
   ]
  },
  {
   "cell_type": "code",
   "execution_count": 22,
   "id": "cb5b160f-dafd-452e-b41d-8b726ab77d1c",
   "metadata": {},
   "outputs": [
    {
     "data": {
      "text/plain": [
       "490"
      ]
     },
     "execution_count": 22,
     "metadata": {},
     "output_type": "execute_result"
    }
   ],
   "source": [
    "# check train utterances that contains sentence in dev/test set\n",
    "leakage_utt: List[str] = preprocessed_train.merge(preprocessed_dev, on=\"sentence\")[\"path_x\"].values.tolist() + preprocessed_train.merge(preprocessed_test, on=\"sentence\")[\"path_x\"].values.tolist()\n",
    "len(leakage_utt)"
   ]
  },
  {
   "cell_type": "code",
   "execution_count": 23,
   "id": "13515b30-f5a5-44fc-8b38-31d0ab8aa7bd",
   "metadata": {},
   "outputs": [],
   "source": [
    "preprocessed_train = preprocessed_train[~preprocessed_train[\"path\"].isin(leakage_utt)]  # remove repeated utt"
   ]
  },
  {
   "cell_type": "code",
   "execution_count": 10,
   "id": "cd6c06be-56b3-4aba-9f1a-fbe59656c63b",
   "metadata": {
    "tags": []
   },
   "outputs": [],
   "source": [
    "# preprocessed_train: pd.DataFrame = texts[texts[\"path\"].map(lambda x: x not in dev[\"path\"].values.tolist() + test[\"path\"].values.tolist())]\n",
    "# preprocessed_dev: pd.DataFrame = texts[texts[\"path\"].map(lambda x: x in dev[\"path\"].values.tolist())]\n",
    "# preprocessed_test: pd.DataFrame = texts[texts[\"path\"].map(lambda x: x in test[\"path\"].values.tolist())]\n",
    "\n",
    "# preprocessed_train.to_csv(\"train.csv\", index=False)\n",
    "# preprocessed_dev.to_csv(\"dev.csv\", index=False)\n",
    "# preprocessed_test.to_csv(\"test.csv\", index=False)"
   ]
  },
  {
   "cell_type": "code",
   "execution_count": 43,
   "id": "47c74691-25d5-41e3-ab26-eebd156884ab",
   "metadata": {},
   "outputs": [],
   "source": [
    "# preprocessed_train: pd.DataFrame = texts[texts[\"set\"] == \"train\"]\n",
    "# preprocessed_dev: pd.DataFrame = texts[texts[\"set\"] == \"dev\"]\n",
    "# preprocessed_test: pd.DataFrame = texts[texts[\"set\"] == \"test\"]"
   ]
  },
  {
   "cell_type": "code",
   "execution_count": 27,
   "id": "3f4da254-20e0-4bca-b754-d94eda10fed3",
   "metadata": {},
   "outputs": [],
   "source": [
    "preprocessed_train.to_csv(\"train.tsv\", index=False, sep=\"\\t\")\n",
    "preprocessed_dev.to_csv(\"dev.tsv\", index=False, sep=\"\\t\")\n",
    "preprocessed_test.to_csv(\"test.tsv\", index=False, sep=\"\\t\")"
   ]
  },
  {
   "cell_type": "markdown",
   "id": "ceb65ae5-eeab-4f40-9093-c806e21ebd87",
   "metadata": {},
   "source": [
    "## Cleaned Data Audio EDA"
   ]
  },
  {
   "cell_type": "code",
   "execution_count": 24,
   "id": "02285092-d127-4e92-b756-1a40f414b549",
   "metadata": {},
   "outputs": [
    {
     "data": {
      "application/vnd.jupyter.widget-view+json": {
       "model_id": "bd30331582184c518aefeeea60c05633",
       "version_major": 2,
       "version_minor": 0
      },
      "text/plain": [
       "  0%|          | 0/86586 [00:00<?, ?it/s]"
      ]
     },
     "metadata": {},
     "output_type": "display_data"
    },
    {
     "data": {
      "image/png": "[encoded data removed]",
      "text/plain": [
       "<Figure size 432x288 with 1 Axes>"
      ]
     },
     "metadata": {
      "needs_background": "light"
     },
     "output_type": "display_data"
    },
    {
     "name": "stdout",
     "output_type": "stream",
     "text": [
      "Total: 107H:27m:54.99s\n",
      "Mean: 4.47\n",
      "Std.: 1.48\n",
      "Max: 10.69\n",
      "Min: 1.62\n"
     ]
    }
   ],
   "source": [
    "audios: List[str] = preprocessed_train[\"path\"].map(lambda path: get_full_path(cv_root=cv_root, path=path)).tolist()\n",
    "audios_len: List[float] = [get_audio_len(f) for f in tqdm(audios)]\n",
    "plt.hist(audios_len, bins=50)\n",
    "plt.xlabel(\"Time (sec)\")\n",
    "plt.ylabel(\"Frequency\")\n",
    "plt.title(\"File duration distribution\")\n",
    "plt.show()\n",
    "\n",
    "print(f\"Total: {sec_to_hour(np.sum(audios_len))}\")\n",
    "print(f\"Mean: {np.mean(audios_len):.2f}\")\n",
    "print(f\"Std.: {np.std(audios_len):.2f}\")\n",
    "print(f\"Max: {np.max(audios_len):.2f}\")\n",
    "print(f\"Min: {np.min(audios_len):.2f}\")"
   ]
  },
  {
   "cell_type": "code",
   "execution_count": 25,
   "id": "34159fcb-cba4-4438-9a2f-348fc8a90546",
   "metadata": {},
   "outputs": [
    {
     "data": {
      "application/vnd.jupyter.widget-view+json": {
       "model_id": "9b7e5d668a924dd88c47808c96976316",
       "version_major": 2,
       "version_minor": 0
      },
      "text/plain": [
       "  0%|          | 0/3030 [00:00<?, ?it/s]"
      ]
     },
     "metadata": {},
     "output_type": "display_data"
    },
    {
     "data": {
      "image/png": "[encoded data removed]",
      "text/plain": [
       "<Figure size 432x288 with 1 Axes>"
      ]
     },
     "metadata": {
      "needs_background": "light"
     },
     "output_type": "display_data"
    },
    {
     "name": "stdout",
     "output_type": "stream",
     "text": [
      "Total: 3H:2m:34.40s\n",
      "Mean: 3.62\n",
      "Std.: 1.18\n",
      "Max: 10.33\n",
      "Min: 1.69\n"
     ]
    }
   ],
   "source": [
    "audios: List[str] = preprocessed_dev[\"path\"].map(lambda path: get_full_path(cv_root=cv_root, path=path)).tolist()\n",
    "audios_len: List[float] = [get_audio_len(f) for f in tqdm(audios)]\n",
    "plt.hist(audios_len, bins=50)\n",
    "plt.xlabel(\"Time (sec)\")\n",
    "plt.ylabel(\"Frequency\")\n",
    "plt.title(\"File duration distribution\")\n",
    "plt.show()\n",
    "\n",
    "print(f\"Total: {sec_to_hour(np.sum(audios_len))}\")\n",
    "print(f\"Mean: {np.mean(audios_len):.2f}\")\n",
    "print(f\"Std.: {np.std(audios_len):.2f}\")\n",
    "print(f\"Max: {np.max(audios_len):.2f}\")\n",
    "print(f\"Min: {np.min(audios_len):.2f}\")"
   ]
  },
  {
   "cell_type": "code",
   "execution_count": 26,
   "id": "72dc64de-803f-4487-9b97-085d6debfcd6",
   "metadata": {},
   "outputs": [
    {
     "data": {
      "application/vnd.jupyter.widget-view+json": {
       "model_id": "f827c5a9814248e4acc6369c31a655fc",
       "version_major": 2,
       "version_minor": 0
      },
      "text/plain": [
       "  0%|          | 0/2502 [00:00<?, ?it/s]"
      ]
     },
     "metadata": {},
     "output_type": "display_data"
    },
    {
     "data": {
      "image/png": "[encoded data removed]",
      "text/plain": [
       "<Figure size 432x288 with 1 Axes>"
      ]
     },
     "metadata": {
      "needs_background": "light"
     },
     "output_type": "display_data"
    },
    {
     "name": "stdout",
     "output_type": "stream",
     "text": [
      "Total: 3H:8m:54.66s\n",
      "Mean: 4.53\n",
      "Std.: 1.29\n",
      "Max: 10.44\n",
      "Min: 2.12\n"
     ]
    }
   ],
   "source": [
    "audios: List[str] = preprocessed_test[\"path\"].map(lambda path: get_full_path(cv_root=cv_root, path=path)).tolist()\n",
    "audios_len: List[float] = [get_audio_len(f) for f in tqdm(audios)]\n",
    "plt.hist(audios_len, bins=50)\n",
    "plt.xlabel(\"Time (sec)\")\n",
    "plt.ylabel(\"Frequency\")\n",
    "plt.title(\"File duration distribution\")\n",
    "plt.show()\n",
    "\n",
    "print(f\"Total: {sec_to_hour(np.sum(audios_len))}\")\n",
    "print(f\"Mean: {np.mean(audios_len):.2f}\")\n",
    "print(f\"Std.: {np.std(audios_len):.2f}\")\n",
    "print(f\"Max: {np.max(audios_len):.2f}\")\n",
    "print(f\"Min: {np.min(audios_len):.2f}\")"
   ]
  },
  {
   "cell_type": "code",
   "execution_count": null,
   "id": "c0dc6b48-dc98-45aa-99ae-e1720faa4560",
   "metadata": {},
   "outputs": [],
   "source": []
  }
 ],
 "metadata": {
  "kernelspec": {
   "display_name": "Python 3 (ipykernel)",
   "language": "python",
   "name": "python3"
  },
  "language_info": {
   "codemirror_mode": {
    "name": "ipython",
    "version": 3
   },
   "file_extension": ".py",
   "mimetype": "text/x-python",
   "name": "python",
   "nbconvert_exporter": "python",
   "pygments_lexer": "ipython3",
   "version": "3.8.6"
  }
 },
 "nbformat": 4,
 "nbformat_minor": 5
}
